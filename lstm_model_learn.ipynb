{
  "nbformat": 4,
  "nbformat_minor": 0,
  "metadata": {
    "colab": {
      "name": "transformer_learn.ipynb",
      "provenance": [],
      "collapsed_sections": []
    },
    "kernelspec": {
      "name": "python3",
      "display_name": "Python 3"
    },
    "accelerator": "GPU"
  },
  "cells": [
    {
      "cell_type": "code",
      "metadata": {
        "id": "CIrc-n1lqkaz",
        "outputId": "c0a8b933-e76d-4bd2-ec46-2407fa7dd751",
        "colab": {
          "base_uri": "https://localhost:8080/",
          "height": 34
        }
      },
      "source": [
        "from google.colab import drive\n",
        "drive.mount('/content/drive')\n"
      ],
      "execution_count": 1,
      "outputs": [
        {
          "output_type": "stream",
          "text": [
            "Mounted at /content/drive\n"
          ],
          "name": "stdout"
        }
      ]
    },
    {
      "cell_type": "markdown",
      "metadata": {
        "id": "hw-EtdUNHXPq"
      },
      "source": [
        "lip_readingフォルダへ移動"
      ]
    },
    {
      "cell_type": "code",
      "metadata": {
        "id": "YkkSYEhIsSTM",
        "outputId": "0c9275ce-88e0-4dbd-83fe-a820a091368c",
        "colab": {
          "base_uri": "https://localhost:8080/",
          "height": 34
        }
      },
      "source": [
        "%cd /content/drive/'My Drive'/lip_reading"
      ],
      "execution_count": 2,
      "outputs": [
        {
          "output_type": "stream",
          "text": [
            "/content/drive/My Drive/lip_reading\n"
          ],
          "name": "stdout"
        }
      ]
    },
    {
      "cell_type": "markdown",
      "metadata": {
        "id": "eeCEYvCwDm_P"
      },
      "source": [
        "import"
      ]
    },
    {
      "cell_type": "code",
      "metadata": {
        "id": "QZH5IMQnBDCA",
        "outputId": "73458f05-4021-4075-f790-e574010ca44b",
        "colab": {
          "base_uri": "https://localhost:8080/",
          "height": 34
        }
      },
      "source": [
        "import numpy as np\n",
        "import glob\n",
        "import time\n",
        "import os.path as osp\n",
        "from PIL import Image\n",
        "import torch\n",
        "from torch import nn, optim\n",
        "from torchvision import transforms\n",
        "from sklearn.model_selection import train_test_split\n",
        "from torch.nn.modules import TransformerEncoder, TransformerEncoderLayer\n",
        "from torchvision.models import MobileNetV2\n",
        "from tqdm import tqdm\n",
        "\n",
        "torch.cuda.is_available()"
      ],
      "execution_count": 3,
      "outputs": [
        {
          "output_type": "execute_result",
          "data": {
            "text/plain": [
              "True"
            ]
          },
          "metadata": {
            "tags": []
          },
          "execution_count": 3
        }
      ]
    },
    {
      "cell_type": "markdown",
      "metadata": {
        "id": "TbGokNlUI_3w"
      },
      "source": [
        "学習するモデルを選ぶ"
      ]
    },
    {
      "cell_type": "code",
      "metadata": {
        "id": "Z8DkuIWUI9kA"
      },
      "source": [
        "# LEARN_NETWORK = \"Transformer\"\n",
        "LEARN_NETWORK = \"LSTM\""
      ],
      "execution_count": 4,
      "outputs": []
    },
    {
      "cell_type": "markdown",
      "metadata": {
        "id": "osygTkYsC33Q"
      },
      "source": [
        "モデルの定義"
      ]
    },
    {
      "cell_type": "code",
      "metadata": {
        "id": "5Wo1K1zmBdy8"
      },
      "source": [
        "class MobileNetV2NotClassify(MobileNetV2):\n",
        "    def __init__(self):\n",
        "        super().__init__()\n",
        "\n",
        "    def _forward_impl(self, x):\n",
        "        x = self.features(x)\n",
        "        # Cannot use \"squeeze\" as batch-size can be 1 => must use reshape with x.shape[0]\n",
        "        x = nn.functional.adaptive_avg_pool2d(x, 1).reshape(x.shape[0], -1)\n",
        "        return x\n",
        "\n",
        "\n",
        "class Model_Transformer(nn.Module):\n",
        "    def __init__(self, device):\n",
        "        super().__init__()\n",
        "        self.device = device\n",
        "        self.mobilenet = MobileNetV2NotClassify()\n",
        "        encoder_layer = TransformerEncoderLayer(1280, 8)\n",
        "        self.encoder = TransformerEncoder(encoder_layer, 1)\n",
        "        self.last_dropout = nn.Dropout(0.2)\n",
        "        self.last_linear = nn.Linear(1280, 4)\n",
        "        print(self.last_linear.weight)\n",
        "        nn.init.kaiming_normal_(self.last_linear.weight)\n",
        "        self.softmax = nn.Softmax(dim=1)\n",
        "\n",
        "    def forward(self, x):\n",
        "        x = self.each_apply(x)\n",
        "        x = self.encoder(x)\n",
        "        x = self.last_dropout(x[:, 0, :])\n",
        "        x = self.last_linear(x)\n",
        "        output = self.softmax(x)\n",
        "\n",
        "        return output\n",
        "\n",
        "    def each_apply(self, x):\n",
        "        \"\"\"\n",
        "            this function means\n",
        "            result = torch.zeros(x.size()[0], 20, 1280).to(self.device)\n",
        "            for i in range(0, 20):\n",
        "                x[:, i] = self.mobilenet(x[:, i])\n",
        "        \"\"\"\n",
        "        result = torch.zeros(x.size()[0], 20, 1280).to(self.device)\n",
        "\n",
        "        result[:, 0] = self.mobilenet(x[:, 0])\n",
        "        result[:, 1] = self.mobilenet(x[:, 1])\n",
        "        result[:, 2] = self.mobilenet(x[:, 2])\n",
        "        result[:, 3] = self.mobilenet(x[:, 3])\n",
        "        result[:, 4] = self.mobilenet(x[:, 4])\n",
        "        result[:, 5] = self.mobilenet(x[:, 5])\n",
        "        result[:, 6] = self.mobilenet(x[:, 6])\n",
        "        result[:, 7] = self.mobilenet(x[:, 7])\n",
        "        result[:, 8] = self.mobilenet(x[:, 8])\n",
        "        result[:, 9] = self.mobilenet(x[:, 9])\n",
        "        result[:, 10] = self.mobilenet(x[:, 10])\n",
        "        result[:, 11] = self.mobilenet(x[:, 11])\n",
        "        result[:, 12] = self.mobilenet(x[:, 12])\n",
        "        result[:, 13] = self.mobilenet(x[:, 13])\n",
        "        result[:, 14] = self.mobilenet(x[:, 14])\n",
        "        result[:, 15] = self.mobilenet(x[:, 15])\n",
        "        result[:, 16] = self.mobilenet(x[:, 16])\n",
        "        result[:, 17] = self.mobilenet(x[:, 17])\n",
        "        result[:, 18] = self.mobilenet(x[:, 18])\n",
        "        result[:, 19] = self.mobilenet(x[:, 19])\n",
        "        return result\n",
        "\n",
        "class Model_LSTM(nn.Module):\n",
        "    def __init__(self, device):\n",
        "        super().__init__()\n",
        "        self.device = device\n",
        "        self.mobilenet = MobileNetV2NotClassify()\n",
        "        self.lstm = nn.LSTM(1280, 1280)\n",
        "        self.dropout = nn.Dropout(0.2)\n",
        "        self.linear = nn.Linear(1280, 4)\n",
        "        print(self.linear.weight)\n",
        "        nn.init.kaiming_normal_(self.linear.weight)\n",
        "        self.softmax = nn.Softmax(dim=1)\n",
        "\n",
        "    def forward(self, x):\n",
        "        x = self.each_apply(x)\n",
        "        _, (x, _) = self.lstm(x.resize(20, x.size()[0], 1280))\n",
        "        x = self.dropout(x[0])\n",
        "        x = self.linear(x)\n",
        "        output = self.softmax(x)\n",
        "        return output\n",
        "\n",
        "    def each_apply(self, x):\n",
        "        \"\"\"\n",
        "            this function means\n",
        "            result = torch.zeros(x.size()[0], 20, 1280).to(self.device)\n",
        "            for i in range(0, 20):\n",
        "                x[:, i] = self.mobilenet(x[:, i])\n",
        "        \"\"\"\n",
        "        result = torch.zeros(x.size()[0], 20, 1280).to(self.device)\n",
        "\n",
        "        result[:, 0] = self.mobilenet(x[:, 0])\n",
        "        result[:, 1] = self.mobilenet(x[:, 1])\n",
        "        result[:, 2] = self.mobilenet(x[:, 2])\n",
        "        result[:, 3] = self.mobilenet(x[:, 3])\n",
        "        result[:, 4] = self.mobilenet(x[:, 4])\n",
        "        result[:, 5] = self.mobilenet(x[:, 5])\n",
        "        result[:, 6] = self.mobilenet(x[:, 6])\n",
        "        result[:, 7] = self.mobilenet(x[:, 7])\n",
        "        result[:, 8] = self.mobilenet(x[:, 8])\n",
        "        result[:, 9] = self.mobilenet(x[:, 9])\n",
        "        result[:, 10] = self.mobilenet(x[:, 10])\n",
        "        result[:, 11] = self.mobilenet(x[:, 11])\n",
        "        result[:, 12] = self.mobilenet(x[:, 12])\n",
        "        result[:, 13] = self.mobilenet(x[:, 13])\n",
        "        result[:, 14] = self.mobilenet(x[:, 14])\n",
        "        result[:, 15] = self.mobilenet(x[:, 15])\n",
        "        result[:, 16] = self.mobilenet(x[:, 16])\n",
        "        result[:, 17] = self.mobilenet(x[:, 17])\n",
        "        result[:, 18] = self.mobilenet(x[:, 18])\n",
        "        result[:, 19] = self.mobilenet(x[:, 19])\n",
        "        return result"
      ],
      "execution_count": 5,
      "outputs": []
    },
    {
      "cell_type": "markdown",
      "metadata": {
        "id": "-MFZdLjBDblH"
      },
      "source": [
        "データローダー、Utility Class, Functionの定義"
      ]
    },
    {
      "cell_type": "code",
      "metadata": {
        "id": "plfrZABKC0tQ"
      },
      "source": [
        "class ImageTransform():\n",
        "    def __init__(self, size, mean, std):\n",
        "        self.data_transform = transforms.Compose([\n",
        "            transforms.Resize(size),\n",
        "            transforms.ToTensor(),\n",
        "            transforms.Normalize(mean,std)\n",
        "        ])\n",
        "    def __call__(self, data):\n",
        "        result = torch.Tensor(20, 3, 224, 224)\n",
        "        for i in range(0, 20):\n",
        "            if data[i, 0, 0, 0] == -1:\n",
        "                prev_img = self.data_transform(Image.fromarray(data[i - 1].astype(np.uint8)))\n",
        "                for j in range(i, 20):\n",
        "                    result[j] = prev_img\n",
        "                return result\n",
        "            else:\n",
        "                result[i] = self.data_transform(Image.fromarray(data[i].astype(np.uint8)))\n",
        "        return result\n",
        "\n",
        "class MyDataset(torch.utils.data.Dataset):\n",
        "    def __init__(self, file_list, transform=None):\n",
        "        self.file_list = file_list\n",
        "        self.transform = transform\n",
        "\n",
        "    def __len__(self):\n",
        "        return len(self.file_list)\n",
        "\n",
        "    def __getitem__(self, index):\n",
        "        img_path = self.file_list[index]\n",
        "        img = np.load(img_path)\n",
        "\n",
        "        img_transformed = self.transform(img)\n",
        "\n",
        "        label = int(img_path[10]) - 1\n",
        "\n",
        "        return img_transformed, label\n",
        "\n",
        "\n",
        "def make_datapath_list():\n",
        "    rootpath = \"./dataset/\"\n",
        "    path_list = []\n",
        "\n",
        "    for i in range(1,5):\n",
        "        target_path = osp.join(rootpath + str(i) + '/*.npy')\n",
        "        for path in glob.glob(target_path):\n",
        "            path_list.append(path)\n",
        "\n",
        "    return train_test_split(np.array(path_list), train_size=0.8)\n",
        "\n",
        "def train_model(net, device, dataloaders_dict, criterion, optimizer, num_epochs):\n",
        "  start = None\n",
        "  end = None\n",
        "  net.to(device)\n",
        "\n",
        "  torch.backends.cudnn.benchmark = True\n",
        "\n",
        "  for epoch in range(num_epochs):\n",
        "    print('Epoch {}/{}'.format(epoch+1, num_epochs))\n",
        "    print('-----------------------------')\n",
        "\n",
        "    for phase in ['train', 'test']:\n",
        "      if phase == 'train':\n",
        "        start = time.time()\n",
        "        net.train()\n",
        "      else:\n",
        "        net.eval()\n",
        "\n",
        "      epoch_loss = 0.0\n",
        "      epoch_corrects = 0.0\n",
        "\n",
        "      for inputs, labels in tqdm(dataloaders_dict[phase]):\n",
        "        inputs = inputs.to(device)\n",
        "        labels = labels.to(device)\n",
        "\n",
        "        optimizer.zero_grad()\n",
        "\n",
        "        with torch.set_grad_enabled(phase == 'train'):\n",
        "          outputs = net(inputs)\n",
        "          loss = criterion(outputs, labels)\n",
        "          _, preds = torch.max(outputs, dim=1)\n",
        "\n",
        "          if phase == 'train':\n",
        "            loss.backward()\n",
        "            optimizer.step()\n",
        "\n",
        "          epoch_loss += loss.item() * inputs.size(0)\n",
        "\n",
        "          epoch_corrects += torch.sum(preds == labels.data)\n",
        "\n",
        "      if phase == 'train':\n",
        "        end = time.time()\n",
        "        print(\"Epock {}| {}s\".format(epoch+1, end - start))\n",
        "      epoch_loss = epoch_loss / len(dataloaders_dict[phase].dataset)\n",
        "      epoch_acc = epoch_corrects.double() / len(dataloaders_dict[phase].dataset)\n",
        "\n",
        "      print('{} Loss: {:.4f} Acc: {:.4f}'.format(phase, epoch_loss, epoch_acc))\n",
        "  \n",
        "  if LEARN_NETWORK == \"Transformer\":\n",
        "    save_path = './transformer_weights.pth'\n",
        "  else:\n",
        "    save_path = './lstm_weights.pth'\n",
        "  torch.save(net.state_dict(), save_path)\n"
      ],
      "execution_count": 6,
      "outputs": []
    },
    {
      "cell_type": "markdown",
      "metadata": {
        "id": "PHR39Q2LDZm0"
      },
      "source": [
        "実行"
      ]
    },
    {
      "cell_type": "code",
      "metadata": {
        "id": "BKAi7ktwDY0x",
        "outputId": "7fcd8fbd-fe19-4e53-8bc5-88ef72203af9",
        "colab": {
          "base_uri": "https://localhost:8080/",
          "height": 833
        }
      },
      "source": [
        "size = (224, 224)\n",
        "mean = (0.485, 0.486, 0.406)\n",
        "std = (0.229, 0.224, 0.225)\n",
        "\n",
        "train_path, test_path = make_datapath_list()\n",
        "\n",
        "batch_size = 8\n",
        "\n",
        "transform = ImageTransform(size, mean, std)\n",
        "\n",
        "train_dataset = MyDataset(train_path, transform)\n",
        "test_dataset = MyDataset(test_path, transform)\n",
        "\n",
        "train_dataloader = torch.utils.data.DataLoader(train_dataset, batch_size=batch_size, shuffle=True)\n",
        "\n",
        "test_dataloader = torch.utils.data.DataLoader(test_dataset, batch_size=batch_size, shuffle=False)\n",
        "\n",
        "dataloaders_dict = {\"train\": train_dataloader, \"test\": test_dataloader}\n",
        "\n",
        "device = torch.device(\"cuda:0\" if torch.cuda.is_available() else \"cpu\")\n",
        "print(\"使用デバイス\", device)\n",
        "\n",
        "if LEARN_NETWORK == \"Transformer\":\n",
        "  net = Model_Transformer(device) # Transformerを使っているモデル\n",
        "else:\n",
        "  net = Model_LSTM(device) # LSTMを使っているモデル\n",
        "optimizer = optim.SGD(net.parameters(), lr=1e-2, momentum=0.9)\n",
        "criterion = nn.CrossEntropyLoss()\n",
        "num_epochs = 20\n",
        "train_model(net, device, dataloaders_dict, criterion, optimizer, num_epochs=num_epochs)"
      ],
      "execution_count": null,
      "outputs": [
        {
          "output_type": "stream",
          "text": [
            "使用デバイス cuda:0\n",
            "Parameter containing:\n",
            "tensor([[-0.0190,  0.0151, -0.0087,  ...,  0.0167, -0.0255,  0.0274],\n",
            "        [-0.0187, -0.0188,  0.0074,  ..., -0.0173, -0.0131,  0.0019],\n",
            "        [ 0.0066,  0.0048, -0.0267,  ...,  0.0136, -0.0055,  0.0110],\n",
            "        [-0.0114,  0.0138,  0.0143,  ...,  0.0108,  0.0160, -0.0089]],\n",
            "       requires_grad=True)\n"
          ],
          "name": "stdout"
        },
        {
          "output_type": "stream",
          "text": [
            "\r  0%|          | 0/202 [00:00<?, ?it/s]"
          ],
          "name": "stderr"
        },
        {
          "output_type": "stream",
          "text": [
            "Epoch 1/20\n",
            "-----------------------------\n"
          ],
          "name": "stdout"
        },
        {
          "output_type": "stream",
          "text": [
            "/usr/local/lib/python3.6/dist-packages/torch/tensor.py:358: UserWarning: non-inplace resize is deprecated\n",
            "  warnings.warn(\"non-inplace resize is deprecated\")\n",
            "100%|██████████| 202/202 [12:14<00:00,  3.64s/it]\n",
            "  0%|          | 0/51 [00:00<?, ?it/s]"
          ],
          "name": "stderr"
        },
        {
          "output_type": "stream",
          "text": [
            "Epock 1| 734.9281709194183s\n",
            "train Loss: 1.3965 Acc: 0.2673\n"
          ],
          "name": "stdout"
        },
        {
          "output_type": "stream",
          "text": [
            "100%|██████████| 51/51 [02:38<00:00,  3.11s/it]\n",
            "  0%|          | 0/202 [00:00<?, ?it/s]"
          ],
          "name": "stderr"
        },
        {
          "output_type": "stream",
          "text": [
            "test Loss: 1.3935 Acc: 0.2624\n",
            "Epoch 2/20\n",
            "-----------------------------\n"
          ],
          "name": "stdout"
        },
        {
          "output_type": "stream",
          "text": [
            "100%|██████████| 202/202 [06:57<00:00,  2.07s/it]\n",
            "  0%|          | 0/51 [00:00<?, ?it/s]"
          ],
          "name": "stderr"
        },
        {
          "output_type": "stream",
          "text": [
            "Epock 2| 417.8402101993561s\n",
            "train Loss: 1.3969 Acc: 0.2531\n"
          ],
          "name": "stdout"
        },
        {
          "output_type": "stream",
          "text": [
            "100%|██████████| 51/51 [02:00<00:00,  2.36s/it]\n",
            "  0%|          | 0/202 [00:00<?, ?it/s]"
          ],
          "name": "stderr"
        },
        {
          "output_type": "stream",
          "text": [
            "test Loss: 1.3874 Acc: 0.2104\n",
            "Epoch 3/20\n",
            "-----------------------------\n"
          ],
          "name": "stdout"
        },
        {
          "output_type": "stream",
          "text": [
            "100%|██████████| 202/202 [07:02<00:00,  2.09s/it]\n",
            "  0%|          | 0/51 [00:00<?, ?it/s]"
          ],
          "name": "stderr"
        },
        {
          "output_type": "stream",
          "text": [
            "Epock 3| 422.37252926826477s\n",
            "train Loss: 1.3978 Acc: 0.2401\n"
          ],
          "name": "stdout"
        },
        {
          "output_type": "stream",
          "text": [
            "100%|██████████| 51/51 [02:05<00:00,  2.45s/it]\n",
            "  0%|          | 0/202 [00:00<?, ?it/s]"
          ],
          "name": "stderr"
        },
        {
          "output_type": "stream",
          "text": [
            "test Loss: 1.4010 Acc: 0.2351\n",
            "Epoch 4/20\n",
            "-----------------------------\n"
          ],
          "name": "stdout"
        },
        {
          "output_type": "stream",
          "text": [
            "100%|██████████| 202/202 [06:59<00:00,  2.08s/it]\n",
            "  0%|          | 0/51 [00:00<?, ?it/s]"
          ],
          "name": "stderr"
        },
        {
          "output_type": "stream",
          "text": [
            "Epock 4| 419.90274238586426s\n",
            "train Loss: 1.3922 Acc: 0.2686\n"
          ],
          "name": "stdout"
        },
        {
          "output_type": "stream",
          "text": [
            "100%|██████████| 51/51 [02:08<00:00,  2.52s/it]\n",
            "  0%|          | 0/202 [00:00<?, ?it/s]"
          ],
          "name": "stderr"
        },
        {
          "output_type": "stream",
          "text": [
            "test Loss: 1.3947 Acc: 0.2500\n",
            "Epoch 5/20\n",
            "-----------------------------\n"
          ],
          "name": "stdout"
        },
        {
          "output_type": "stream",
          "text": [
            "100%|██████████| 202/202 [07:00<00:00,  2.08s/it]\n",
            "  0%|          | 0/51 [00:00<?, ?it/s]"
          ],
          "name": "stderr"
        },
        {
          "output_type": "stream",
          "text": [
            "Epock 5| 420.90414094924927s\n",
            "train Loss: 1.3928 Acc: 0.2580\n"
          ],
          "name": "stdout"
        },
        {
          "output_type": "stream",
          "text": [
            "100%|██████████| 51/51 [02:01<00:00,  2.38s/it]\n",
            "  0%|          | 0/202 [00:00<?, ?it/s]"
          ],
          "name": "stderr"
        },
        {
          "output_type": "stream",
          "text": [
            "test Loss: 1.3875 Acc: 0.2624\n",
            "Epoch 6/20\n",
            "-----------------------------\n"
          ],
          "name": "stdout"
        },
        {
          "output_type": "stream",
          "text": [
            " 45%|████▌     | 91/202 [02:42<03:00,  1.63s/it]"
          ],
          "name": "stderr"
        }
      ]
    }
  ]
}